{
 "cells": [
  {
   "cell_type": "markdown",
   "id": "e8e5d7b0",
   "metadata": {},
   "source": [
    "# **OBJECTIVES:**\n",
    "\n",
    "- ### *To Predict student drop-offs or engagement levels based on this historical data to helps the company take proactive measures to improve retention and participation*"
   ]
  },
  {
   "cell_type": "markdown",
   "id": "40394854",
   "metadata": {},
   "source": [
    "#### **Importing the necessary libraries**"
   ]
  },
  {
   "cell_type": "code",
   "execution_count": 15,
   "id": "1208d45c",
   "metadata": {},
   "outputs": [],
   "source": [
    "import pandas as pd\n",
    "import numpy as np\n",
    "import matplotlib.pyplot as plt\n",
    "import seaborn as sns\n",
    "import warnings as wa\n",
    "wa.filterwarnings(\"ignore\")"
   ]
  },
  {
   "cell_type": "markdown",
   "id": "6aca1760",
   "metadata": {},
   "source": [
    "#### **Loading the dataset**"
   ]
  },
  {
   "cell_type": "code",
   "execution_count": 16,
   "id": "38d55c5b",
   "metadata": {},
   "outputs": [],
   "source": [
    "df = pd.read_csv(\"SLU Opportunity Wise Data.csv\")\n"
   ]
  },
  {
   "cell_type": "markdown",
   "id": "17cbe63f",
   "metadata": {},
   "source": [
    "#### **Viewing the dataset head**"
   ]
  },
  {
   "cell_type": "code",
   "execution_count": 17,
   "id": "b6a5db12",
   "metadata": {},
   "outputs": [
    {
     "data": {
      "text/html": [
       "<div>\n",
       "<style scoped>\n",
       "    .dataframe tbody tr th:only-of-type {\n",
       "        vertical-align: middle;\n",
       "    }\n",
       "\n",
       "    .dataframe tbody tr th {\n",
       "        vertical-align: top;\n",
       "    }\n",
       "\n",
       "    .dataframe thead th {\n",
       "        text-align: right;\n",
       "    }\n",
       "</style>\n",
       "<table border=\"1\" class=\"dataframe\">\n",
       "  <thead>\n",
       "    <tr style=\"text-align: right;\">\n",
       "      <th></th>\n",
       "      <th>Learner SignUp DateTime</th>\n",
       "      <th>Opportunity Id</th>\n",
       "      <th>Opportunity Name</th>\n",
       "      <th>Opportunity Category</th>\n",
       "      <th>Opportunity End Date</th>\n",
       "      <th>First Name</th>\n",
       "      <th>Date of Birth</th>\n",
       "      <th>Gender</th>\n",
       "      <th>Country</th>\n",
       "      <th>Institution Name</th>\n",
       "      <th>Current/Intended Major</th>\n",
       "      <th>Entry created at</th>\n",
       "      <th>Status Description</th>\n",
       "      <th>Status Code</th>\n",
       "      <th>Apply Date</th>\n",
       "      <th>Opportunity Start Date</th>\n",
       "    </tr>\n",
       "  </thead>\n",
       "  <tbody>\n",
       "    <tr>\n",
       "      <th>0</th>\n",
       "      <td>06/14/2023 12:30:35</td>\n",
       "      <td>00000000-0GN2-A0AY-7XK8-C5FZPP</td>\n",
       "      <td>Career Essentials: Getting Started with Your P...</td>\n",
       "      <td>Course</td>\n",
       "      <td>06/29/2024 18:52:39</td>\n",
       "      <td>Faria</td>\n",
       "      <td>01/12/2001</td>\n",
       "      <td>Female</td>\n",
       "      <td>Pakistan</td>\n",
       "      <td>Nwihs</td>\n",
       "      <td>Radiology</td>\n",
       "      <td>03/11/2024 12:01:41</td>\n",
       "      <td>Started</td>\n",
       "      <td>1080</td>\n",
       "      <td>06/14/2023 12:36:09</td>\n",
       "      <td>11/03/2022 18:30:39</td>\n",
       "    </tr>\n",
       "    <tr>\n",
       "      <th>1</th>\n",
       "      <td>05/01/2023 05:29:16</td>\n",
       "      <td>00000000-0GN2-A0AY-7XK8-C5FZPP</td>\n",
       "      <td>Career Essentials: Getting Started with Your P...</td>\n",
       "      <td>Course</td>\n",
       "      <td>06/29/2024 18:52:39</td>\n",
       "      <td>Poojitha</td>\n",
       "      <td>08/16/2000</td>\n",
       "      <td>Female</td>\n",
       "      <td>India</td>\n",
       "      <td>SAINT LOUIS</td>\n",
       "      <td>Information Systems</td>\n",
       "      <td>03/11/2024 12:01:41</td>\n",
       "      <td>Started</td>\n",
       "      <td>1080</td>\n",
       "      <td>05/01/2023 06:08:21</td>\n",
       "      <td>11/03/2022 18:30:39</td>\n",
       "    </tr>\n",
       "    <tr>\n",
       "      <th>2</th>\n",
       "      <td>04/09/2023 20:35:08</td>\n",
       "      <td>00000000-0GN2-A0AY-7XK8-C5FZPP</td>\n",
       "      <td>Career Essentials: Getting Started with Your P...</td>\n",
       "      <td>Course</td>\n",
       "      <td>06/29/2024 18:52:39</td>\n",
       "      <td>Emmanuel</td>\n",
       "      <td>01/27/2002</td>\n",
       "      <td>Male</td>\n",
       "      <td>United States</td>\n",
       "      <td>Illinois Institute of Technology</td>\n",
       "      <td>Computer Science</td>\n",
       "      <td>03/11/2024 12:01:41</td>\n",
       "      <td>Started</td>\n",
       "      <td>1080</td>\n",
       "      <td>05/11/2023 1085640:21:29</td>\n",
       "      <td>11/03/2022 18:30:39</td>\n",
       "    </tr>\n",
       "    <tr>\n",
       "      <th>3</th>\n",
       "      <td>08/29/2023 05:20:03</td>\n",
       "      <td>00000000-0GN2-A0AY-7XK8-C5FZPP</td>\n",
       "      <td>Career Essentials: Getting Started with Your P...</td>\n",
       "      <td>Course</td>\n",
       "      <td>06/29/2024 18:52:39</td>\n",
       "      <td>Amrutha Varshini</td>\n",
       "      <td>11/01/1999</td>\n",
       "      <td>Female</td>\n",
       "      <td>United States</td>\n",
       "      <td>Saint Louis University</td>\n",
       "      <td>Information Systems</td>\n",
       "      <td>03/11/2024 12:01:41</td>\n",
       "      <td>Team Allocated</td>\n",
       "      <td>1070</td>\n",
       "      <td>10/09/2023 22:02:42</td>\n",
       "      <td>11/03/2022 18:30:39</td>\n",
       "    </tr>\n",
       "    <tr>\n",
       "      <th>4</th>\n",
       "      <td>01/06/2023 15:26:36</td>\n",
       "      <td>00000000-0GN2-A0AY-7XK8-C5FZPP</td>\n",
       "      <td>Career Essentials: Getting Started with Your P...</td>\n",
       "      <td>Course</td>\n",
       "      <td>06/29/2024 18:52:39</td>\n",
       "      <td>Vinay Varshith</td>\n",
       "      <td>04/19/2000</td>\n",
       "      <td>Male</td>\n",
       "      <td>United States</td>\n",
       "      <td>Saint Louis University</td>\n",
       "      <td>Computer Science</td>\n",
       "      <td>03/11/2024 12:01:41</td>\n",
       "      <td>Started</td>\n",
       "      <td>1080</td>\n",
       "      <td>01/06/2023 15:40:10</td>\n",
       "      <td>11/03/2022 18:30:39</td>\n",
       "    </tr>\n",
       "  </tbody>\n",
       "</table>\n",
       "</div>"
      ],
      "text/plain": [
       "  Learner SignUp DateTime                  Opportunity Id  \\\n",
       "0     06/14/2023 12:30:35  00000000-0GN2-A0AY-7XK8-C5FZPP   \n",
       "1     05/01/2023 05:29:16  00000000-0GN2-A0AY-7XK8-C5FZPP   \n",
       "2     04/09/2023 20:35:08  00000000-0GN2-A0AY-7XK8-C5FZPP   \n",
       "3     08/29/2023 05:20:03  00000000-0GN2-A0AY-7XK8-C5FZPP   \n",
       "4     01/06/2023 15:26:36  00000000-0GN2-A0AY-7XK8-C5FZPP   \n",
       "\n",
       "                                    Opportunity Name Opportunity Category  \\\n",
       "0  Career Essentials: Getting Started with Your P...               Course   \n",
       "1  Career Essentials: Getting Started with Your P...               Course   \n",
       "2  Career Essentials: Getting Started with Your P...               Course   \n",
       "3  Career Essentials: Getting Started with Your P...               Course   \n",
       "4  Career Essentials: Getting Started with Your P...               Course   \n",
       "\n",
       "  Opportunity End Date        First Name Date of Birth  Gender        Country  \\\n",
       "0  06/29/2024 18:52:39             Faria    01/12/2001  Female       Pakistan   \n",
       "1  06/29/2024 18:52:39          Poojitha    08/16/2000  Female          India   \n",
       "2  06/29/2024 18:52:39          Emmanuel    01/27/2002    Male  United States   \n",
       "3  06/29/2024 18:52:39  Amrutha Varshini    11/01/1999  Female  United States   \n",
       "4  06/29/2024 18:52:39    Vinay Varshith    04/19/2000    Male  United States   \n",
       "\n",
       "                   Institution Name Current/Intended Major  \\\n",
       "0                             Nwihs              Radiology   \n",
       "1                       SAINT LOUIS    Information Systems   \n",
       "2  Illinois Institute of Technology       Computer Science   \n",
       "3            Saint Louis University    Information Systems   \n",
       "4            Saint Louis University       Computer Science   \n",
       "\n",
       "      Entry created at Status Description  Status Code  \\\n",
       "0  03/11/2024 12:01:41            Started         1080   \n",
       "1  03/11/2024 12:01:41            Started         1080   \n",
       "2  03/11/2024 12:01:41            Started         1080   \n",
       "3  03/11/2024 12:01:41     Team Allocated         1070   \n",
       "4  03/11/2024 12:01:41            Started         1080   \n",
       "\n",
       "                 Apply Date Opportunity Start Date  \n",
       "0       06/14/2023 12:36:09    11/03/2022 18:30:39  \n",
       "1       05/01/2023 06:08:21    11/03/2022 18:30:39  \n",
       "2  05/11/2023 1085640:21:29    11/03/2022 18:30:39  \n",
       "3       10/09/2023 22:02:42    11/03/2022 18:30:39  \n",
       "4       01/06/2023 15:40:10    11/03/2022 18:30:39  "
      ]
     },
     "execution_count": 17,
     "metadata": {},
     "output_type": "execute_result"
    }
   ],
   "source": [
    "df.head()"
   ]
  },
  {
   "cell_type": "markdown",
   "id": "9f5dd790",
   "metadata": {},
   "source": [
    "### **Counting the number of columns in the dataset**"
   ]
  },
  {
   "cell_type": "code",
   "execution_count": 18,
   "id": "90d02cda",
   "metadata": {},
   "outputs": [
    {
     "name": "stdout",
     "output_type": "stream",
     "text": [
      "Number of columns in the dataset is: 16\n"
     ]
    }
   ],
   "source": [
    "count_columns = df.shape[1]\n",
    "print('Number of columns in the dataset is:',count_columns)"
   ]
  },
  {
   "cell_type": "markdown",
   "id": "542b6f9b",
   "metadata": {},
   "source": [
    "#### **Counting the number of rows in the dataset**"
   ]
  },
  {
   "cell_type": "code",
   "execution_count": 19,
   "id": "2ec3e4cf",
   "metadata": {},
   "outputs": [
    {
     "name": "stdout",
     "output_type": "stream",
     "text": [
      "Number of rows in the dataset is: 8558\n"
     ]
    }
   ],
   "source": [
    "count_rows = df.shape[0]\n",
    "print('Number of rows in the dataset is:',count_rows)"
   ]
  },
  {
   "cell_type": "markdown",
   "id": "958804b8",
   "metadata": {},
   "source": [
    "#### **Finding the datatypes in the dataset**"
   ]
  },
  {
   "cell_type": "code",
   "execution_count": 20,
   "id": "13f7920d",
   "metadata": {},
   "outputs": [
    {
     "name": "stdout",
     "output_type": "stream",
     "text": [
      "<class 'pandas.core.frame.DataFrame'>\n",
      "RangeIndex: 8558 entries, 0 to 8557\n",
      "Data columns (total 16 columns):\n",
      " #   Column                   Non-Null Count  Dtype \n",
      "---  ------                   --------------  ----- \n",
      " 0   Learner SignUp DateTime  8558 non-null   object\n",
      " 1   Opportunity Id           8558 non-null   object\n",
      " 2   Opportunity Name         8558 non-null   object\n",
      " 3   Opportunity Category     8558 non-null   object\n",
      " 4   Opportunity End Date     8558 non-null   object\n",
      " 5   First Name               8558 non-null   object\n",
      " 6   Date of Birth            8558 non-null   object\n",
      " 7   Gender                   8558 non-null   object\n",
      " 8   Country                  8558 non-null   object\n",
      " 9   Institution Name         8553 non-null   object\n",
      " 10  Current/Intended Major   8553 non-null   object\n",
      " 11  Entry created at         8558 non-null   object\n",
      " 12  Status Description       8558 non-null   object\n",
      " 13  Status Code              8558 non-null   int64 \n",
      " 14  Apply Date               8558 non-null   object\n",
      " 15  Opportunity Start Date   4764 non-null   object\n",
      "dtypes: int64(1), object(15)\n",
      "memory usage: 1.0+ MB\n",
      "None\n"
     ]
    }
   ],
   "source": [
    "print(df.info())"
   ]
  }
 ],
 "metadata": {
  "kernelspec": {
   "display_name": "Python 3",
   "language": "python",
   "name": "python3"
  },
  "language_info": {
   "codemirror_mode": {
    "name": "ipython",
    "version": 3
   },
   "file_extension": ".py",
   "mimetype": "text/x-python",
   "name": "python",
   "nbconvert_exporter": "python",
   "pygments_lexer": "ipython3",
   "version": "3.13.2"
  }
 },
 "nbformat": 4,
 "nbformat_minor": 5
}
